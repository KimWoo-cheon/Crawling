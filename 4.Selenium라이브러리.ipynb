{
 "cells": [
  {
   "cell_type": "code",
   "execution_count": null,
   "id": "377e2400-64c4-4707-8053-cc3e768d0ba9",
   "metadata": {},
   "outputs": [],
   "source": [
    "#beautifulSoup : 페이지 정보 내에서 원하는 정보 가져오기\n",
    "#Selenium : 웹 페이지를 제어, 코드를  사용해서 브라우저를 제어\n",
    "#사람이 진행하는 단계와 도일한 코드를 작성"
   ]
  },
  {
   "cell_type": "code",
   "execution_count": 12,
   "id": "c3fd741f-9d7e-4f2f-b5eb-656f5e24bdf9",
   "metadata": {},
   "outputs": [
    {
     "name": "stdout",
     "output_type": "stream",
     "text": [
      "Active code page: 65001\n",
      "Requirement already satisfied: selenium in c:\\users\\smhrd1\\anaconda3\\lib\\site-packages (4.20.0)\n",
      "Requirement already satisfied: urllib3<3,>=1.26 in c:\\users\\smhrd1\\anaconda3\\lib\\site-packages (from urllib3[socks]<3,>=1.26->selenium) (2.0.7)\n",
      "Requirement already satisfied: trio~=0.17 in c:\\users\\smhrd1\\anaconda3\\lib\\site-packages (from selenium) (0.25.0)\n",
      "Requirement already satisfied: trio-websocket~=0.9 in c:\\users\\smhrd1\\anaconda3\\lib\\site-packages (from selenium) (0.11.1)\n",
      "Requirement already satisfied: certifi>=2021.10.8 in c:\\users\\smhrd1\\anaconda3\\lib\\site-packages (from selenium) (2024.2.2)\n",
      "Requirement already satisfied: typing_extensions>=4.9.0 in c:\\users\\smhrd1\\anaconda3\\lib\\site-packages (from selenium) (4.9.0)\n",
      "Requirement already satisfied: attrs>=23.2.0 in c:\\users\\smhrd1\\anaconda3\\lib\\site-packages (from trio~=0.17->selenium) (23.2.0)\n",
      "Requirement already satisfied: sortedcontainers in c:\\users\\smhrd1\\anaconda3\\lib\\site-packages (from trio~=0.17->selenium) (2.4.0)\n",
      "Requirement already satisfied: idna in c:\\users\\smhrd1\\anaconda3\\lib\\site-packages (from trio~=0.17->selenium) (3.4)\n",
      "Requirement already satisfied: outcome in c:\\users\\smhrd1\\anaconda3\\lib\\site-packages (from trio~=0.17->selenium) (1.3.0.post0)\n",
      "Requirement already satisfied: sniffio>=1.3.0 in c:\\users\\smhrd1\\anaconda3\\lib\\site-packages (from trio~=0.17->selenium) (1.3.0)\n",
      "Requirement already satisfied: cffi>=1.14 in c:\\users\\smhrd1\\anaconda3\\lib\\site-packages (from trio~=0.17->selenium) (1.16.0)\n",
      "Requirement already satisfied: wsproto>=0.14 in c:\\users\\smhrd1\\anaconda3\\lib\\site-packages (from trio-websocket~=0.9->selenium) (1.2.0)\n",
      "Requirement already satisfied: pysocks!=1.5.7,<2.0,>=1.5.6 in c:\\users\\smhrd1\\anaconda3\\lib\\site-packages (from urllib3[socks]<3,>=1.26->selenium) (1.7.1)\n",
      "Requirement already satisfied: pycparser in c:\\users\\smhrd1\\anaconda3\\lib\\site-packages (from cffi>=1.14->trio~=0.17->selenium) (2.21)\n",
      "Requirement already satisfied: h11<1,>=0.9.0 in c:\\users\\smhrd1\\anaconda3\\lib\\site-packages (from wsproto>=0.14->trio-websocket~=0.9->selenium) (0.14.0)\n"
     ]
    }
   ],
   "source": [
    "!pip install selenium"
   ]
  },
  {
   "cell_type": "code",
   "execution_count": 67,
   "id": "d9b75de2-4d79-4610-b1fe-2a405c4f921f",
   "metadata": {},
   "outputs": [],
   "source": [
    "import time"
   ]
  },
  {
   "cell_type": "code",
   "execution_count": 13,
   "id": "34200d66-19de-47be-987f-89ccb3a5cc52",
   "metadata": {},
   "outputs": [],
   "source": [
    "# 웹 브라우저를 통제하는 용도\n",
    "from selenium import webdriver as wb\n",
    "# 키보드의 역할\n",
    "from selenium.webdriver.common.keys import Keys\n",
    "# 찾을 방법(선택자) 지정하기\n",
    "from selenium.webdriver.common.by import By"
   ]
  },
  {
   "cell_type": "code",
   "execution_count": 15,
   "id": "ec2a6c47-d342-4c41-9aa3-44716b787556",
   "metadata": {},
   "outputs": [],
   "source": [
    "# 브라우저 열기\n",
    "driver = wb.Chrome() # driver = 크롬창"
   ]
  },
  {
   "cell_type": "code",
   "execution_count": 16,
   "id": "384e2b02-c8a9-4096-b6e2-d93b9fd72460",
   "metadata": {},
   "outputs": [],
   "source": [
    "# 네이버 페이지 열기\n",
    "driver.get('http://www.naver.com')"
   ]
  },
  {
   "cell_type": "code",
   "execution_count": 18,
   "id": "204f61ed-45f3-49af-bf11-933fe1c105e7",
   "metadata": {},
   "outputs": [],
   "source": [
    "# 검색창에 내일날씨 입력하고 검색버튼 누르기\n",
    "# 1. 검색창 찾기 : 태그와 id, class를 사용해서 찾기\n",
    "# find_element() : 원하는 요소 하나 찾기\n",
    "#                : 원하는 요소중 첫번째 값 가져오기\n",
    "# find_elements() : 원하는 모든 요소 찾기\n",
    "# 검색할 방법, 태그정보\n",
    "search = driver.find_element(By.ID,'query')"
   ]
  },
  {
   "cell_type": "code",
   "execution_count": 40,
   "id": "3c0bd781-4321-436f-953d-c9ca18a14bd7",
   "metadata": {},
   "outputs": [],
   "source": [
    "#2. 검색할 내용 입력하기\n",
    "search.send_keys('아')\n",
    "# 페이지가 갱신되면 요소들을 새롭게 찾아줘야함"
   ]
  },
  {
   "cell_type": "code",
   "execution_count": 42,
   "id": "ef795f5a-b545-4640-904f-25727fa37c50",
   "metadata": {},
   "outputs": [],
   "source": [
    "#3. 검색창에서 엔터눌러서 검색하기\n",
    "search.send_keys(Keys.ENTER)"
   ]
  },
  {
   "cell_type": "code",
   "execution_count": 46,
   "id": "960757fd-02dd-46c6-baff-7082db9b456d",
   "metadata": {},
   "outputs": [],
   "source": [
    "# 4.페이지 뒤로가기(브라우저)\n",
    "driver.back()"
   ]
  },
  {
   "cell_type": "code",
   "execution_count": 51,
   "id": "5c056fe5-187c-4cc2-a4a0-162771fac19d",
   "metadata": {},
   "outputs": [],
   "source": [
    "driver.forward()"
   ]
  },
  {
   "cell_type": "code",
   "execution_count": 44,
   "id": "e07ea066-2699-4e96-ad94-d4b9f79e322b",
   "metadata": {},
   "outputs": [
    {
     "ename": "TypeError",
     "evalue": "unsupported operand type(s) for &: 'str' and 'str'",
     "output_type": "error",
     "traceback": [
      "\u001b[1;31m---------------------------------------------------------------------------\u001b[0m",
      "\u001b[1;31mTypeError\u001b[0m                                 Traceback (most recent call last)",
      "Cell \u001b[1;32mIn[44], line 1\u001b[0m\n\u001b[1;32m----> 1\u001b[0m search\u001b[38;5;241m.\u001b[39msend_keys(Keys\u001b[38;5;241m.\u001b[39mALT\u001b[38;5;241m&\u001b[39mKeys\u001b[38;5;241m.\u001b[39mARROW_LEFT)\n",
      "\u001b[1;31mTypeError\u001b[0m: unsupported operand type(s) for &: 'str' and 'str'"
     ]
    }
   ],
   "source": [
    "search.send_keys(Keys.ALT + Keys.ARROW_LEFT)"
   ]
  },
  {
   "cell_type": "code",
   "execution_count": 54,
   "id": "5dae0704-5c90-473a-81fc-0d323e8678b8",
   "metadata": {},
   "outputs": [],
   "source": [
    "# 한번에 실행이 안될 경우\n",
    " # 속도차이로 실행 순서가 꼬인경우\n",
    "driver = wb.Chrome()\n",
    "driver.get('http://www.naver.com')\n",
    "search = driver.find_element(By.ID,'query')\n",
    "search.send_keys('아')\n",
    "search.send_keys(Keys.ENTER)\n",
    "driver.back()\n",
    "driver.forward()"
   ]
  },
  {
   "cell_type": "code",
   "execution_count": 58,
   "id": "d1a3e3a8-d4e6-4b34-9143-dfe74029c6d2",
   "metadata": {},
   "outputs": [],
   "source": [
    "driver = wb.Chrome()\n",
    "driver.get('http://www.naver.com')\n",
    "search = driver.find_element(By.ID,'query')\n",
    "search.send_keys('날씨')\n"
   ]
  },
  {
   "cell_type": "code",
   "execution_count": 59,
   "id": "1be5aa96-e9dd-45d8-a9ac-51aae03f8bbc",
   "metadata": {},
   "outputs": [],
   "source": [
    "# 돋보기 버튼 찾기\n",
    "btn = driver.find_element(By.ID, 'search-btn')\n",
    "# 돋보기 버튼 클릭\n",
    "btn.click()"
   ]
  },
  {
   "cell_type": "code",
   "execution_count": 60,
   "id": "95d13054-894e-4c14-b6af-26b97a309d33",
   "metadata": {},
   "outputs": [
    {
     "ename": "WebDriverException",
     "evalue": "Message: disconnected: not connected to DevTools\n  (failed to check if window was closed: disconnected: not connected to DevTools)\n  (Session info: chrome=124.0.6367.93)\nStacktrace:\n\tGetHandleVerifier [0x00007FF6B05E1502+60802]\n\t(No symbol) [0x00007FF6B055AC02]\n\t(No symbol) [0x00007FF6B0417CE4]\n\t(No symbol) [0x00007FF6B03FE894]\n\t(No symbol) [0x00007FF6B03FF3FF]\n\t(No symbol) [0x00007FF6B04182DD]\n\t(No symbol) [0x00007FF6B03EDACC]\n\t(No symbol) [0x00007FF6B0499E47]\n\t(No symbol) [0x00007FF6B049984B]\n\t(No symbol) [0x00007FF6B048AB40]\n\t(No symbol) [0x00007FF6B0458FEC]\n\t(No symbol) [0x00007FF6B0459C21]\n\tGetHandleVerifier [0x00007FF6B08E411D+3217821]\n\tGetHandleVerifier [0x00007FF6B09260B7+3488055]\n\tGetHandleVerifier [0x00007FF6B091F03F+3459263]\n\tGetHandleVerifier [0x00007FF6B069B846+823494]\n\t(No symbol) [0x00007FF6B0565F9F]\n\t(No symbol) [0x00007FF6B0560EC4]\n\t(No symbol) [0x00007FF6B0561052]\n\t(No symbol) [0x00007FF6B05518A4]\n\tBaseThreadInitThunk [0x00007FFA9B35257D+29]\n\tRtlUserThreadStart [0x00007FFA9C44AA48+40]\n",
     "output_type": "error",
     "traceback": [
      "\u001b[1;31m---------------------------------------------------------------------------\u001b[0m",
      "\u001b[1;31mWebDriverException\u001b[0m                        Traceback (most recent call last)",
      "Cell \u001b[1;32mIn[60], line 2\u001b[0m\n\u001b[0;32m      1\u001b[0m \u001b[38;5;66;03m# 브라우저 닫기\u001b[39;00m\n\u001b[1;32m----> 2\u001b[0m driver\u001b[38;5;241m.\u001b[39mclose()\n",
      "File \u001b[1;32m~\\anaconda3\\Lib\\site-packages\\selenium\\webdriver\\remote\\webdriver.py:458\u001b[0m, in \u001b[0;36mWebDriver.close\u001b[1;34m(self)\u001b[0m\n\u001b[0;32m    450\u001b[0m \u001b[38;5;28;01mdef\u001b[39;00m \u001b[38;5;21mclose\u001b[39m(\u001b[38;5;28mself\u001b[39m) \u001b[38;5;241m-\u001b[39m\u001b[38;5;241m>\u001b[39m \u001b[38;5;28;01mNone\u001b[39;00m:\n\u001b[0;32m    451\u001b[0m \u001b[38;5;250m    \u001b[39m\u001b[38;5;124;03m\"\"\"Closes the current window.\u001b[39;00m\n\u001b[0;32m    452\u001b[0m \n\u001b[0;32m    453\u001b[0m \u001b[38;5;124;03m    :Usage:\u001b[39;00m\n\u001b[1;32m   (...)\u001b[0m\n\u001b[0;32m    456\u001b[0m \u001b[38;5;124;03m            driver.close()\u001b[39;00m\n\u001b[0;32m    457\u001b[0m \u001b[38;5;124;03m    \"\"\"\u001b[39;00m\n\u001b[1;32m--> 458\u001b[0m     \u001b[38;5;28mself\u001b[39m\u001b[38;5;241m.\u001b[39mexecute(Command\u001b[38;5;241m.\u001b[39mCLOSE)\n",
      "File \u001b[1;32m~\\anaconda3\\Lib\\site-packages\\selenium\\webdriver\\remote\\webdriver.py:347\u001b[0m, in \u001b[0;36mWebDriver.execute\u001b[1;34m(self, driver_command, params)\u001b[0m\n\u001b[0;32m    345\u001b[0m response \u001b[38;5;241m=\u001b[39m \u001b[38;5;28mself\u001b[39m\u001b[38;5;241m.\u001b[39mcommand_executor\u001b[38;5;241m.\u001b[39mexecute(driver_command, params)\n\u001b[0;32m    346\u001b[0m \u001b[38;5;28;01mif\u001b[39;00m response:\n\u001b[1;32m--> 347\u001b[0m     \u001b[38;5;28mself\u001b[39m\u001b[38;5;241m.\u001b[39merror_handler\u001b[38;5;241m.\u001b[39mcheck_response(response)\n\u001b[0;32m    348\u001b[0m     response[\u001b[38;5;124m\"\u001b[39m\u001b[38;5;124mvalue\u001b[39m\u001b[38;5;124m\"\u001b[39m] \u001b[38;5;241m=\u001b[39m \u001b[38;5;28mself\u001b[39m\u001b[38;5;241m.\u001b[39m_unwrap_value(response\u001b[38;5;241m.\u001b[39mget(\u001b[38;5;124m\"\u001b[39m\u001b[38;5;124mvalue\u001b[39m\u001b[38;5;124m\"\u001b[39m, \u001b[38;5;28;01mNone\u001b[39;00m))\n\u001b[0;32m    349\u001b[0m     \u001b[38;5;28;01mreturn\u001b[39;00m response\n",
      "File \u001b[1;32m~\\anaconda3\\Lib\\site-packages\\selenium\\webdriver\\remote\\errorhandler.py:229\u001b[0m, in \u001b[0;36mErrorHandler.check_response\u001b[1;34m(self, response)\u001b[0m\n\u001b[0;32m    227\u001b[0m         alert_text \u001b[38;5;241m=\u001b[39m value[\u001b[38;5;124m\"\u001b[39m\u001b[38;5;124malert\u001b[39m\u001b[38;5;124m\"\u001b[39m]\u001b[38;5;241m.\u001b[39mget(\u001b[38;5;124m\"\u001b[39m\u001b[38;5;124mtext\u001b[39m\u001b[38;5;124m\"\u001b[39m)\n\u001b[0;32m    228\u001b[0m     \u001b[38;5;28;01mraise\u001b[39;00m exception_class(message, screen, stacktrace, alert_text)  \u001b[38;5;66;03m# type: ignore[call-arg]  # mypy is not smart enough here\u001b[39;00m\n\u001b[1;32m--> 229\u001b[0m \u001b[38;5;28;01mraise\u001b[39;00m exception_class(message, screen, stacktrace)\n",
      "\u001b[1;31mWebDriverException\u001b[0m: Message: disconnected: not connected to DevTools\n  (failed to check if window was closed: disconnected: not connected to DevTools)\n  (Session info: chrome=124.0.6367.93)\nStacktrace:\n\tGetHandleVerifier [0x00007FF6B05E1502+60802]\n\t(No symbol) [0x00007FF6B055AC02]\n\t(No symbol) [0x00007FF6B0417CE4]\n\t(No symbol) [0x00007FF6B03FE894]\n\t(No symbol) [0x00007FF6B03FF3FF]\n\t(No symbol) [0x00007FF6B04182DD]\n\t(No symbol) [0x00007FF6B03EDACC]\n\t(No symbol) [0x00007FF6B0499E47]\n\t(No symbol) [0x00007FF6B049984B]\n\t(No symbol) [0x00007FF6B048AB40]\n\t(No symbol) [0x00007FF6B0458FEC]\n\t(No symbol) [0x00007FF6B0459C21]\n\tGetHandleVerifier [0x00007FF6B08E411D+3217821]\n\tGetHandleVerifier [0x00007FF6B09260B7+3488055]\n\tGetHandleVerifier [0x00007FF6B091F03F+3459263]\n\tGetHandleVerifier [0x00007FF6B069B846+823494]\n\t(No symbol) [0x00007FF6B0565F9F]\n\t(No symbol) [0x00007FF6B0560EC4]\n\t(No symbol) [0x00007FF6B0561052]\n\t(No symbol) [0x00007FF6B05518A4]\n\tBaseThreadInitThunk [0x00007FFA9B35257D+29]\n\tRtlUserThreadStart [0x00007FFA9C44AA48+40]\n"
     ]
    }
   ],
   "source": [
    "# 브라우저 닫기\n",
    "driver.close()"
   ]
  },
  {
   "cell_type": "code",
   "execution_count": 70,
   "id": "e6626d1a-d810-4bb8-99bf-f11014ec345f",
   "metadata": {},
   "outputs": [],
   "source": [
    "driver = wb.Chrome()\n",
    "driver.get('http://www.naver.com')\n",
    "btn = driver.find_element(By.CSS_SELECTOR, '.service_icon.type_news')\n",
    "btn.click()\n",
    "driver.back()\n",
    "time.sleep(1)\n",
    "driver.close()"
   ]
  },
  {
   "cell_type": "code",
   "execution_count": 75,
   "id": "32569786-fbd9-4ced-859f-84c066f1be2e",
   "metadata": {},
   "outputs": [],
   "source": [
    "driver = wb.Chrome()\n",
    "driver.get('http://www.naver.com')\n",
    "driver.find_element(By.CSS_SELECTOR, '.service_icon.type_news').click()\n",
    "driver.back()\n",
    "time.sleep(1)\n",
    "driver.close()"
   ]
  },
  {
   "cell_type": "code",
   "execution_count": 88,
   "id": "0e09c0a7-e635-47a0-8c8c-648aa8e1648d",
   "metadata": {},
   "outputs": [
    {
     "data": {
      "text/plain": [
       "[<selenium.webdriver.remote.webelement.WebElement (session=\"13e85678c39dbb1df840e250292776d5\", element=\"f.8B8C97458E3182255E967363B6D1B869.d.FAAB8A1DFFC658F79B5D90E0AF3009BA.e.8\")>,\n",
       " <selenium.webdriver.remote.webelement.WebElement (session=\"13e85678c39dbb1df840e250292776d5\", element=\"f.8B8C97458E3182255E967363B6D1B869.d.FAAB8A1DFFC658F79B5D90E0AF3009BA.e.9\")>,\n",
       " <selenium.webdriver.remote.webelement.WebElement (session=\"13e85678c39dbb1df840e250292776d5\", element=\"f.8B8C97458E3182255E967363B6D1B869.d.FAAB8A1DFFC658F79B5D90E0AF3009BA.e.10\")>,\n",
       " <selenium.webdriver.remote.webelement.WebElement (session=\"13e85678c39dbb1df840e250292776d5\", element=\"f.8B8C97458E3182255E967363B6D1B869.d.FAAB8A1DFFC658F79B5D90E0AF3009BA.e.11\")>,\n",
       " <selenium.webdriver.remote.webelement.WebElement (session=\"13e85678c39dbb1df840e250292776d5\", element=\"f.8B8C97458E3182255E967363B6D1B869.d.FAAB8A1DFFC658F79B5D90E0AF3009BA.e.12\")>,\n",
       " <selenium.webdriver.remote.webelement.WebElement (session=\"13e85678c39dbb1df840e250292776d5\", element=\"f.8B8C97458E3182255E967363B6D1B869.d.FAAB8A1DFFC658F79B5D90E0AF3009BA.e.13\")>,\n",
       " <selenium.webdriver.remote.webelement.WebElement (session=\"13e85678c39dbb1df840e250292776d5\", element=\"f.8B8C97458E3182255E967363B6D1B869.d.FAAB8A1DFFC658F79B5D90E0AF3009BA.e.14\")>,\n",
       " <selenium.webdriver.remote.webelement.WebElement (session=\"13e85678c39dbb1df840e250292776d5\", element=\"f.8B8C97458E3182255E967363B6D1B869.d.FAAB8A1DFFC658F79B5D90E0AF3009BA.e.15\")>,\n",
       " <selenium.webdriver.remote.webelement.WebElement (session=\"13e85678c39dbb1df840e250292776d5\", element=\"f.8B8C97458E3182255E967363B6D1B869.d.FAAB8A1DFFC658F79B5D90E0AF3009BA.e.16\")>,\n",
       " <selenium.webdriver.remote.webelement.WebElement (session=\"13e85678c39dbb1df840e250292776d5\", element=\"f.8B8C97458E3182255E967363B6D1B869.d.FAAB8A1DFFC658F79B5D90E0AF3009BA.e.17\")>,\n",
       " <selenium.webdriver.remote.webelement.WebElement (session=\"13e85678c39dbb1df840e250292776d5\", element=\"f.8B8C97458E3182255E967363B6D1B869.d.FAAB8A1DFFC658F79B5D90E0AF3009BA.e.18\")>]"
      ]
     },
     "execution_count": 88,
     "metadata": {},
     "output_type": "execute_result"
    }
   ],
   "source": [
    "driver = wb.Chrome()\n",
    "driver.get('https://www.hsd.co.kr/menu/menu_list')\n",
    "menu_list=driver.find_elements(By.CLASS_NAME,'h.fz_03')\n",
    "menu_list"
   ]
  },
  {
   "cell_type": "code",
   "execution_count": 89,
   "id": "13afa91f-113a-422a-b42d-5b568193f5a8",
   "metadata": {},
   "outputs": [
    {
     "name": "stdout",
     "output_type": "stream",
     "text": [
      "숯불 직화 닭갈비(간장맛)\n",
      "숯불 직화 닭갈비(고추장맛)\n",
      "숯불 직화 닭갈비 덮밥(간장맛)\n",
      "소확행 제육 도시락\n",
      "소확행 스팸 도시락\n",
      "멘치카츠\n",
      "스페셜 하이라이스\n",
      "송정식 떡갈비 Ⅱ\n",
      "이남장 설렁탕\n",
      "제육돈까스 도련님\n",
      "사골 조랭이떡 만둣국\n"
     ]
    }
   ],
   "source": [
    "for menu in menu_list :\n",
    "    print(menu.text)"
   ]
  },
  {
   "cell_type": "code",
   "execution_count": null,
   "id": "43985c28-31d1-444d-b96e-4471532fcfcc",
   "metadata": {},
   "outputs": [],
   "source": []
  },
  {
   "cell_type": "code",
   "execution_count": null,
   "id": "b1c91813-a206-4146-9d6a-2908fdde3185",
   "metadata": {},
   "outputs": [],
   "source": []
  }
 ],
 "metadata": {
  "kernelspec": {
   "display_name": "Python 3 (ipykernel)",
   "language": "python",
   "name": "python3"
  },
  "language_info": {
   "codemirror_mode": {
    "name": "ipython",
    "version": 3
   },
   "file_extension": ".py",
   "mimetype": "text/x-python",
   "name": "python",
   "nbconvert_exporter": "python",
   "pygments_lexer": "ipython3",
   "version": "3.11.7"
  }
 },
 "nbformat": 4,
 "nbformat_minor": 5
}
