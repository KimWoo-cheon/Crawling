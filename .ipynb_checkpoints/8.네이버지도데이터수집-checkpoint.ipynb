{
 "cells": [
  {
   "cell_type": "code",
   "execution_count": 64,
   "id": "40fac76f-5650-4f69-b265-2f40294a6e24",
   "metadata": {},
   "outputs": [],
   "source": [
    "from selenium import webdriver as wb\n",
    "from selenium.webdriver.common.keys import Keys\n",
    "from selenium.webdriver.common.by import By\n",
    "from selenium.webdriver.chrome.options import Options # 옵션추가\n",
    "import pandas as pd\n",
    "import time\n",
    "\n",
    "options=Options()\n",
    "options.add_argument('--start=maximized') #최대화면으로\n",
    "options.add_argument('--headless=new')"
   ]
  },
  {
   "cell_type": "code",
   "execution_count": 69,
   "id": "a044d916-42f3-41e5-9ccf-e4a792e17649",
   "metadata": {},
   "outputs": [
    {
     "name": "stdin",
     "output_type": "stream",
     "text": [
      " 서울맛집\n"
     ]
    },
    {
     "name": "stdout",
     "output_type": "stream",
     "text": [
      "['육부장 문래본점', '헤이쥬드', '광화문미진', '명동교자 본점', '진주집', '사모님짬뽕', '우래옥', '소문난성수감자탕', '익선취향', '런던베이글뮤지엄 안국점']\n"
     ]
    }
   ],
   "source": [
    "driver=wb.Chrome(options=options)\n",
    "map_url='https://map.naver.com/p?c=15.00,0,0,0,dh'\n",
    "keyword=input()\n",
    "driver.get(map_url)\n",
    "driver.find_element(By.CSS_SELECTOR,'.input_box>input').send_keys(keyword+'\\n')\n",
    "time.sleep(5)\n",
    "# 검색된 결과 내용을 수집하려면 창 전환을 먼저 진행해야 가능하다.\n",
    "driver.switch_to.frame('searchIframe')\n",
    "items=driver.find_elements(By.CLASS_NAME,'tzwk0')\n",
    "name_list=[]\n",
    "for item in items : \n",
    "    item.click()\n",
    "    time.sleep(2.5)\n",
    "    # 이전 페이지로 창 전환\n",
    "    driver.switch_to.default_content()\n",
    "    driver.switch_to.frame('entryIframe')\n",
    "    names=driver.find_element(By.CLASS_NAME,'Fc1rA')\n",
    "    name_list.append(names.text)    \n",
    "    driver.switch_to.default_content()\n",
    "    driver.switch_to.frame('searchIframe')\n",
    "\n",
    "print(name_list)"
   ]
  },
  {
   "cell_type": "code",
   "execution_count": 35,
   "id": "91c10e32-fad9-4dee-ab16-605e6fdc4550",
   "metadata": {},
   "outputs": [],
   "source": []
  },
  {
   "cell_type": "code",
   "execution_count": 43,
   "id": "36561b0c-7664-4e31-b7c4-a2927179469d",
   "metadata": {},
   "outputs": [],
   "source": []
  },
  {
   "cell_type": "code",
   "execution_count": null,
   "id": "ab0f16c7-d6c0-4522-a575-9a12d999b18e",
   "metadata": {},
   "outputs": [],
   "source": []
  },
  {
   "cell_type": "code",
   "execution_count": null,
   "id": "ce3d44b6-c596-4516-9861-6c276ea74700",
   "metadata": {},
   "outputs": [],
   "source": []
  },
  {
   "cell_type": "code",
   "execution_count": null,
   "id": "4f8a4cbe-0298-4556-9c2e-e38f2fedcd35",
   "metadata": {},
   "outputs": [],
   "source": []
  }
 ],
 "metadata": {
  "kernelspec": {
   "display_name": "Python 3 (ipykernel)",
   "language": "python",
   "name": "python3"
  },
  "language_info": {
   "codemirror_mode": {
    "name": "ipython",
    "version": 3
   },
   "file_extension": ".py",
   "mimetype": "text/x-python",
   "name": "python",
   "nbconvert_exporter": "python",
   "pygments_lexer": "ipython3",
   "version": "3.11.7"
  }
 },
 "nbformat": 4,
 "nbformat_minor": 5
}
