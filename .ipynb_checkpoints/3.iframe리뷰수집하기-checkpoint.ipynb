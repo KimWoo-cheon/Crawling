{
 "cells": [
  {
   "cell_type": "code",
   "execution_count": 3,
   "id": "a1792e72-9a02-4f0f-bd46-96df308f3bbd",
   "metadata": {},
   "outputs": [],
   "source": [
    "import requests as req\n",
    "import pandas as pd\n",
    "from bs4 import BeautifulSoup as bs\n",
    "headerInfo={\n",
    "    'user-agent':'Mozilla/5.0 (Windows NT 10.0; Win64; x64) AppleWebKit/537.36 (KHTML, like Gecko) Chrome/124.0.0.0 Safari/537.36'\n",
    "}"
   ]
  },
  {
   "cell_type": "code",
   "execution_count": 14,
   "id": "ea3bea97-b888-41ce-aa9d-0d088d8c4063",
   "metadata": {},
   "outputs": [],
   "source": [
    "url = 'https://review4.cre.ma/bodyluv.kr/products/reviews?product_code=471&iframe_id=crema-product-reviews-2&widget_style=&app=0&parent_url=https%3A%2F%2Fbodyluv.kr%2Fproduct%2F%25ED%2593%25A8%25EC%2596%25B4%25EC%258D%25B8-%25EC%2597%25AC%25ED%2596%2589%25EC%259A%25A9-%25EB%25AF%25B8%25EB%258B%2588-%25EC%2583%25A4%25EC%259B%258C%25EA%25B8%25B0%2F471%2Fcategory%2F24%2Fdisplay%2F1%2F&nonmember_token=&secure_device_token=V27b3eddd3f2c97a46c7ffe77be6e7422ae6efb4eba7c9c3c1b50b835b434a0da37c38bc1951fe54c6505aedd4d8ab33f8&iframe=1&install_method=hardcoded'\n",
    "res=req.get(url, headers=headerInfo)\n",
    "html=bs(res.text,'lxml')\n",
    "# 200번대 성공\n",
    "# 300번대는 다시시도 추가 동작 필요\n",
    "# 400번대는 사용자 잘못\n",
    "# 500번대는 서버 잘못"
   ]
  },
  {
   "cell_type": "code",
   "execution_count": null,
   "id": "e68c3bff-30c8-475c-aaf6-8b042e92145d",
   "metadata": {},
   "outputs": [],
   "source": [
    "#크롤링이 안될때 \n",
    "#1. 선택자, 태그정보 확실히 적었는가.\n",
    "#2. iframe 확인하기\n",
    "## 리뷰처럼 많은 정보를 사용자에게 보여줘야 할때는 컴퓨터 자원소모, 처리속도 등의 이유로\n",
    "## 새로고침 할때마다 정보를 다시 가져오는 방식을 선호하지 않음\n",
    "## 리뷰를 띄우는 페이지를 하나 만들고 iframe을 확용해서 페이지를 보여\n",
    "#3. 의도적으로 페이지를 감"
   ]
  },
  {
   "cell_type": "code",
   "execution_count": 17,
   "id": "43885c43-94ee-436a-ad7b-81ca77097ea2",
   "metadata": {},
   "outputs": [
    {
     "data": {
      "text/plain": [
       "[<span class=\"visually-hidden\">별점: 5점</span>,\n",
       " <span class=\"visually-hidden\">별점: 5점</span>,\n",
       " <span class=\"visually-hidden\">별점: 5점</span>,\n",
       " <span class=\"visually-hidden\">별점: 5점</span>,\n",
       " <span class=\"visually-hidden\">별점: 5점</span>]"
      ]
     },
     "execution_count": 17,
     "metadata": {},
     "output_type": "execute_result"
    }
   ],
   "source": [
    "html.select('.visually-hidden')"
   ]
  },
  {
   "cell_type": "code",
   "execution_count": 18,
   "id": "c7a3ba77-7af3-4c9f-bcdd-677ed08a1d19",
   "metadata": {},
   "outputs": [
    {
     "data": {
      "text/plain": [
       "[<div class=\"review_list_v2__score_text\">아주 좋아요</div>,\n",
       " <div class=\"review_list_v2__score_text\">아주 좋아요</div>,\n",
       " <div class=\"review_list_v2__score_text\">아주 좋아요</div>,\n",
       " <div class=\"review_list_v2__score_text\">아주 좋아요</div>,\n",
       " <div class=\"review_list_v2__score_text\">아주 좋아요</div>]"
      ]
     },
     "execution_count": 18,
     "metadata": {},
     "output_type": "execute_result"
    }
   ],
   "source": [
    "html.select('.review_list_v2__score_text')"
   ]
  },
  {
   "cell_type": "code",
   "execution_count": 32,
   "id": "2fee0a30-3eaa-459b-a7bf-981ceef74205",
   "metadata": {},
   "outputs": [],
   "source": [
    "reviews=html.select('.review_list_v2__message.js-collapsed-review-content.js-translate-text')"
   ]
  },
  {
   "cell_type": "code",
   "execution_count": 29,
   "id": "716e99b9-0f6a-4775-a72f-2ab44c328357",
   "metadata": {},
   "outputs": [
    {
     "data": {
      "text/plain": [
       "'//assets4.cre.ma/p/bodyluv-kr/reviews/00/02/13/93/33/image1/portrait_eb51f5c3cac4d157.jpg'"
      ]
     },
     "execution_count": 29,
     "metadata": {},
     "output_type": "execute_result"
    }
   ],
   "source": [
    "html.select('.review_media_v2__medium_image')[0].get('src')"
   ]
  },
  {
   "cell_type": "code",
   "execution_count": null,
   "id": "924b14a7-1d0b-43ad-82c2-57342013c18b",
   "metadata": {},
   "outputs": [],
   "source": []
  },
  {
   "cell_type": "code",
   "execution_count": 35,
   "id": "68d081b7-9117-4b38-80f2-bf8a0eb4e252",
   "metadata": {},
   "outputs": [
    {
     "name": "stdout",
     "output_type": "stream",
     "text": [
      "한국돌아와서 바로 리뷰씁니다. 발리 신행동안 간 3개의 숙소중 마지막날 묵었던 1박당 가장 비쌌던 숙소에서 저렇게됐네요^^;; 평소 알러지도있고 예민한 피부인데 안가져갔으면 큰일 날뻔...덕분에 찝찝함을 덜었어요~ 여행전날도착해서 챙길수있었던것도 큰 행운이었네요!그리고 뭣보다 필터링도 대박이지만 수압미쳐요ㅋㅋㅋ저것만끼면 그냥 아주 인생역대급 수압됨(2022-09-04 18:39:54 에 등록된 네이버 페이 구매평)\n",
      "\n",
      "태국 여행하면서 쓰려고 구매해갔었어요.네 곳의 5성급 호텔과 리조트에서 묵었는데,한 곳 빼고는 다 이 사워기를 설치해서 사용했습니다.(한 곳은 규격이 맞지 않아서 사용하지 못했어요.ㅜㅜ)사용 후기는 굉장히 만족스러워요.안 가져갔으면 어쩔 뻔했나싶습니다. ㅎㅎ나중에서야 들은 얘기인데, 여행 전에 제가 이 샤워기를 구매할 때 굳이 필터샤워기까지 필요한가 싶었대요.ㅎㅎ 근데 여행후반인 지금은 남편도 매우 만족하며 사용하고 있습니다.귀국해서 잘 건조시켜 보관해놓고, 다음 여행때도 또 쓸거예요!\n",
      "\n",
      "필리핀 보홀입니다. 몸만 간단히 샤워 한번 했는데 벌써 색이 이렇게 변했네요. 여태 모르고 계속 양치도 이물로 했었는데 말이죠 ㅠㅠㅠㅠ 제가 바디럽 새워기를 선택한 이유는 예쁜 디자인과 하단의 물마개 캡때문입니다. 타사 제품에는 물마개 캡이 없어서 이동 중 물이 새어 나오겠더라구요. 더 사용해 봐야 알겠지만 일회에도 우선 대만족힙니다.\n",
      "\n",
      "원래 제가 이런걸 챙기는 사람이 아니에요. 동남아에서도 물갈이 안해서 괜찮겠지 했는데 왠지 이번에 너무 사가야할것 같아서 몽골 갈때 구매했는데 호텔에서 물 틀어보자마자 ㅋㅋㅋ 빨간 녹물같은게.. 바로 갈아서 세수도 샤워기로만 했어요. 아래는 여자 둘이 하루 묵고나서 샤워기.. 하루만에 이렇게 되더군요. 아무튼 넘 잘 썼습니다.(2022-09-23 21:12:43 에 등록된 네이버 페이 구매평)\n",
      "\n",
      "베트남 나름 좋은 호텔이었는데 샤워기 물 나오자마자 바로 빨갛게 변했어요..필터 몇 개 더 가져갈걸 후회했다능..\n",
      "\n"
     ]
    }
   ],
   "source": [
    "for review in reviews :\n",
    "    print(review.text.strip())\n",
    "    print()"
   ]
  },
  {
   "cell_type": "code",
   "execution_count": 47,
   "id": "4fbc7181-0be9-4012-abed-a31195fbe36f",
   "metadata": {},
   "outputs": [
    {
     "name": "stdout",
     "output_type": "stream",
     "text": [
      "한국돌아와서 바로 리뷰씁니다. 발리 신행동안 간 3개의 숙소중 마지막날 묵었던 1박당 가장 비쌌던 숙소에서 저렇게됐네요^^;; 평소 알러지도있고 예민한 피부인데 안가져갔으면 큰일 날뻔...덕분에 찝찝함을 덜었어요~ 여행전날도착해서 챙길수있었던것도 큰 행운이었네요!그리고 뭣보다 필터링도 대박이지만 수압미쳐요ㅋㅋㅋ저것만끼면 그냥 아주 인생역대급 수압됨(2022-09-04 18:39:54 에 등록된 네이버 페이 구매평)\n",
      "\n",
      "태국 여행하면서 쓰려고 구매해갔었어요.네 곳의 5성급 호텔과 리조트에서 묵었는데,한 곳 빼고는 다 이 사워기를 설치해서 사용했습니다.(한 곳은 규격이 맞지 않아서 사용하지 못했어요.ㅜㅜ)사용 후기는 굉장히 만족스러워요.안 가져갔으면 어쩔 뻔했나싶습니다. ㅎㅎ나중에서야 들은 얘기인데, 여행 전에 제가 이 샤워기를 구매할 때 굳이 필터샤워기까지 필요한가 싶었대요.ㅎㅎ 근데 여행후반인 지금은 남편도 매우 만족하며 사용하고 있습니다.귀국해서 잘 건조시켜 보관해놓고, 다음 여행때도 또 쓸거예요!\n",
      "\n",
      "필리핀 보홀입니다. 몸만 간단히 샤워 한번 했는데 벌써 색이 이렇게 변했네요. 여태 모르고 계속 양치도 이물로 했었는데 말이죠 ㅠㅠㅠㅠ 제가 바디럽 새워기를 선택한 이유는 예쁜 디자인과 하단의 물마개 캡때문입니다. 타사 제품에는 물마개 캡이 없어서 이동 중 물이 새어 나오겠더라구요. 더 사용해 봐야 알겠지만 일회에도 우선 대만족힙니다.\n",
      "\n",
      "원래 제가 이런걸 챙기는 사람이 아니에요. 동남아에서도 물갈이 안해서 괜찮겠지 했는데 왠지 이번에 너무 사가야할것 같아서 몽골 갈때 구매했는데 호텔에서 물 틀어보자마자 ㅋㅋㅋ 빨간 녹물같은게.. 바로 갈아서 세수도 샤워기로만 했어요. 아래는 여자 둘이 하루 묵고나서 샤워기.. 하루만에 이렇게 되더군요. 아무튼 넘 잘 썼습니다.(2022-09-23 21:12:43 에 등록된 네이버 페이 구매평)\n",
      "\n",
      "베트남 나름 좋은 호텔이었는데 샤워기 물 나오자마자 바로 빨갛게 변했어요..필터 몇 개 더 가져갈걸 후회했다능..\n",
      "\n",
      "필터 필수 굿굿 사용 잘 했습니다사용하고 난 사진이에요 ㅠ(2022-10-08 09:04:10 에 등록된 네이버 페이 구매평)\n",
      "\n",
      "진짜 너무너무너무 만족이용여행갈때마다 물갈이해서 피부 다 뒤집어졌었는데친구가 추천해줘서 이거 쓰는데ㄹㅇ 물갈이 안하드라고요 ㅠ강추에오 고민하시는분들 꼭 사세오....!이번 유럽여행때 잘 썻읍니당❤️아 참고로 향기필터 장착하믄기분 엄청좋아요 향기로움이 내 몸을 감싸...(2022-09-20 09:27:51 에 등록된 네이버 페이 구매평)\n",
      "\n",
      "작고 귀여워서 처음엔 엥 이게 샤워기인가 했어요 ㅎㅎ근데 수압이 와 ㅎㅎㅎ 짱이에요 그렇다고 피부에 자극은 안되구요 굿굿 입니다제가 동남아에 살아서 석회물이라 바디럽 기존 기본형은 잘 안걸러지는 느낌이었는데 얜 따로 석회물까지 걸러주는 필터가 있어서 구매했습니다~ 확실히 필터가 더 빨리 닳긴 해요 색이 빨리 변하네요 ㅠㅠ 기존형 샤워기 필터도 석회물 걸러지는게 나왔으면 좋겠네요\n",
      "\n",
      "발리여행때 혹시나 하는 맘으로 챙겨갔어요 마지막날 필터가 까매진걸 보고 너무 놀랬어요 안가져갔으면 그 물로 저희몸과 얼굴을 씻었을걸 생각하니 아찔하더라구요 놀래서 필터 사진을 못찍은게 아쉬워요ㅜㅜ 매번 여행마다 데리고 다닐거같아요 강추합니당~~♡\n",
      "\n",
      "여행용 샤워기 찾아보다가 퓨어썸 알게되고 집 샤워기도 바꾸고 싶은 충동이 들어요ㅎㅎ 장기간 여행가서 물갈이가 걱정되서 미리 구입한건데 일단 디자인이 너무 귀엽고 이뻐요! 여행가서 잘 사용할게요!!\n",
      "\n",
      "실수로 세트 1개에 필터만 2개 더 주문하려고 했던건데..세트로 2개가 선택되버려서 2세트가 생겼네요 ㅎㅎ다음달에 여행가서 미리 할인할 때 구입해 놨는데여행용이 나와서 너무 좋네요!항상 해외로 여행 갈 때마다 물 안 맞아서 피부 뒤집어지고머릿결 상하기 일수였는데…이제 걱정 없이 해외여행가서 씻을 수 있게 됐네요!이 제품 만들어 주셔서 너무너무 감사합니다 ❤️\n",
      "\n",
      "깜찍하네요 늘 밖에갈때 물때문에고생했는데 이제 그럴일 없을듯해요 휴가때 잘써볼게요\n",
      "\n",
      "여행용 샤워기 구매하면서 혹시몰라 필터만 따로 더 구매했습니다-여행용을 풀세트로 구매해서 일단 사용해보고 좋으면 가정에서도 아이용으로 사용할수도 있을 것 같아서요. 권장 교체 주기가 1-2개월인데 한팩에 두개가 들어있으니 수질에 따라 반년에서 일년정도 사용 가능하겠네요~아직 사용 전이라 여행 시 사용 기대감이 큽니다!\n",
      "\n",
      "필터도 얼리버드로 넉넉하게(2022-08-11 16:54:52 에 등록된 네이버 페이 구매평)\n",
      "\n",
      "화장실, 주방 모두 사용중☆아이낳고는 여행가면 진짜샤워기 찝찝해서 마음에걸렸는데..해결 되었습니다!!와..최신제조!!빨리 여행가고 싶습니다^^(2022-08-11 16:54:27 에 등록된 네이버 페이 구매평)\n",
      "\n",
      "여행용 샤워기.. 넘귀여워요zzz신혼여행으로 발리를 가기때문에 샤워기 교체 해서 쓰려구요!!  요세는 여행가서 교체해서 쓰더라구요 ㅎㅎㅎ 너무 귀여워요\n",
      "\n",
      "해외 나갈 일이 있어 구매했어요-안그래도 필터샤워기를 챙겨가려고 준비중이었는데 마침 여행용 미니샤워기가 나와 바로 구매하게 되었습니다. 일단 사이즈는 성인이 사용하기에 다소 작아보이긴 하지만 어린 아이들과 함께 쓰기엔 좋을 것 같아요-비교하자면 주방에서 사용하는 코브라수전 정도 사이즈네요. 기존에도 비타필터 사용중이었어서 샤워할 때 좋은 향으로 기분도 함께 상쾌해지는게 좋아서 이번에도 미니 사이즈로 구매했는데 파우치안에 연결장치와 필터4개까지 들어가네요-필터는 포장 사이즈가 좀 있어서 잘하면 필터랑 비타필터 하나씩 넣어갈 수 있을 것 같아요. 사이즈도 적당하고 시기적절하게 구매 기회가 생겨 더욱 좋았네요~\n",
      "\n",
      "가볍고 그립감도 좋습니다.여행 뿐만 아니라 운동 갈때도 가지고 다닐 예정입니다.미니 비타의 향도 아주 좋더군요. 좋은 제품 만들어 주셔서 감사합니다.\n",
      "\n",
      "여행용 샤워기가 나와서 좋습니다. 여행을 즐겨하고 가끔은 오래된 숙소를 갔을땐 찜찜하기도 했는데 여행용 샤워기 때문에 이제 찜찜함에서 해방될것 같네요\n",
      "\n",
      "태국갓다와서 석회수때문에 피부뒤집어져서 사게됬는데2일차에 누래지고 3일차에 씻으려고 보니 검해져있는걸보고챙기길 잘했다 싶더라구용!이제 여행갈때 여행용샤워기는 필수템이되었습니다^^수압도쎄고 좋아요\n",
      "\n",
      "해외 출장이 잦은 직업이라 매번 물 쓸 때마다 찝찝해서 구매했어요~ 5성급 호텔에 묵어도 동남아 수질은 어쩔 수 없나봐요ㅠㅠ 필터가 살짝 노랗게 변하더라구요ㅠㅠ여행용으로 나와서 그런지 캐리어에서 자리차지도 덜하고,수압도 적절하게 세서 기대했던 것보다 만족스럽습니다!주변에도 선물해주려구요~\n",
      "\n",
      "나트랑간다고 챙겨갓는데 2일만에 이렇게 변할줄이야...!여러분 꼭 챙겨가세요!!!5성급 호텔에서 묵었능데도 이정도...두개챙겨갈걸 그랬어요ㅜㅜ필터 빼볼려고 만지니까 필터에서 검은색 찐득한게 막 묻어나오는게,,챙겨가길 잘햇더라구용! 또 구매하러 들어왔다가 리뷰남겨용!ㅎㅎ여러분 피부 절대지켜!!!!꼭사세용\n",
      "\n",
      "우선 컴팩트한 점이 너무 좋네요 여행 갈 때 무거우면 번거로운데 이건 딱 좋아요 얼른 여행 가서 사용해봐야겠어요\n",
      "\n",
      "여행할때필수품얘요~부피도적어좋아요\n",
      "\n",
      "올 겨울에 동남아로 여행 예정인데 유용하게 쓰일것 같아요. 파우치도 있어서 휴대하기 좋습니다.(2022-08-26 15:44:40 에 등록된 네이버 페이 구매평)\n",
      "\n"
     ]
    }
   ],
   "source": [
    "list_1 = []\n",
    "for page in range(1,6):\n",
    "    page_url=f'https://review4.cre.ma/bodyluv.kr/products/reviews?aloading=.page&app=0&iframe=1&iframe_id=crema-product-reviews-2&install_method=hardcoded&nonmember_token=&page={page}&parent_url=https%3A%2F%2Fbodyluv.kr%2Fproduct%2F%25ED%2593%25A8%25EC%2596%25B4%25EC%258D%25B8-%25EC%2597%25AC%25ED%2596%2589%25EC%259A%25A9-%25EB%25AF%25B8%25EB%258B%2588-%25EC%2583%25A4%25EC%259B%258C%25EA%25B8%25B0%2F471%2Fcategory%2F24%2Fdisplay%2F1%2F&product_code=471&secure_device_token=V27b3eddd3f2c97a46c7ffe77be6e7422ae6efb4eba7c9c3c1b50b835b434a0da37c38bc1951fe54c6505aedd4d8ab33f8&widget_env=100&widget_style='\n",
    "    res=req.get(page_url, headers=headerInfo)\n",
    "    time.sleep(0.3)\n",
    "    html=bs(res.text,'lxml')\n",
    "    reviews_page=html.select('.review_list_v2__message.js-collapsed-review-content.js-translate-text')\n",
    "    for review in reviews_page :\n",
    "        list_1.append(review.text.strip())\n",
    "        print(review.text.strip())\n",
    "        time.sleep(0.2)\n",
    "        print()\n",
    "# 오류나는 케이스에서 요청/응답 속도가 느릴때 >>\n",
    "# 파이썬 실행속도보다 요청/응답이 느리면 오류 발생\n",
    "# 강제로 시간을 딜레이 시켜서 해결      time.sleep(5)"
   ]
  },
  {
   "cell_type": "code",
   "execution_count": 48,
   "id": "4d80a82a-632c-4f09-9f16-157f73a77f1e",
   "metadata": {},
   "outputs": [
    {
     "data": {
      "text/plain": [
       "25"
      ]
     },
     "execution_count": 48,
     "metadata": {},
     "output_type": "execute_result"
    }
   ],
   "source": [
    "len(list_1)"
   ]
  },
  {
   "cell_type": "code",
   "execution_count": 44,
   "id": "960d261f-4f08-49a2-a6bb-d25095a586a3",
   "metadata": {},
   "outputs": [
    {
     "name": "stdout",
     "output_type": "stream",
     "text": [
      "1\n",
      "2\n"
     ]
    }
   ],
   "source": [
    "import time\n",
    "print(1)\n",
    "time.sleep(5)# 해당 코드에서 해당 초만큼 대기\n",
    "print(2)"
   ]
  },
  {
   "cell_type": "code",
   "execution_count": null,
   "id": "c26476e5-b3fc-4060-aa18-7c358607daf2",
   "metadata": {},
   "outputs": [],
   "source": []
  },
  {
   "cell_type": "code",
   "execution_count": null,
   "id": "c7e77f3a-5491-4b30-ba0b-227845e77b2f",
   "metadata": {},
   "outputs": [],
   "source": []
  },
  {
   "cell_type": "code",
   "execution_count": null,
   "id": "c3d2a504-1184-4573-90df-2848f4544db8",
   "metadata": {},
   "outputs": [],
   "source": []
  }
 ],
 "metadata": {
  "kernelspec": {
   "display_name": "Python 3 (ipykernel)",
   "language": "python",
   "name": "python3"
  },
  "language_info": {
   "codemirror_mode": {
    "name": "ipython",
    "version": 3
   },
   "file_extension": ".py",
   "mimetype": "text/x-python",
   "name": "python",
   "nbconvert_exporter": "python",
   "pygments_lexer": "ipython3",
   "version": "3.11.7"
  }
 },
 "nbformat": 4,
 "nbformat_minor": 5
}
