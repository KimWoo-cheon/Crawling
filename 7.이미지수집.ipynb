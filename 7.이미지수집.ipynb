{
 "cells": [
  {
   "cell_type": "code",
   "execution_count": 2,
   "id": "ef145b3f-91b0-47aa-848e-ab06f4c8edf7",
   "metadata": {},
   "outputs": [],
   "source": [
    "from selenium import webdriver as wb\n",
    "from selenium.webdriver.common.keys import Keys\n",
    "from selenium.webdriver.common.by import By\n",
    "\n",
    "import time\n",
    "\n",
    "\n",
    "# 폴더 or 파일 관련 기능을 가진 라이브러리 ex) 폴더 or 파일 생성/삭제/존재여부확인 \n",
    "import os\n",
    "\n",
    "# 이미지 경로를 요청해서 파일로 저장하는 라이브러리\n",
    "from urllib.request import urlretrieve"
   ]
  },
  {
   "cell_type": "code",
   "execution_count": 5,
   "id": "462c5a4a-4741-4594-9103-5fff1957416c",
   "metadata": {},
   "outputs": [
    {
     "name": "stdout",
     "output_type": "stream",
     "text": [
      "폴더생성\n"
     ]
    }
   ],
   "source": [
    "# 폴더 생성 \n",
    "# 해당 폴더가 있는 지 확인한 후 없다면 생성!\n",
    "if not os.path.isdir(\"C:\\\\Users\\\\smhrd1\\\\Desktop\\\\고양이\") : \n",
    "    print('폴더생성')\n",
    "    #폴더 생성하는 함\n",
    "    os.mkdir('C:\\\\Users\\\\smhrd1\\\\Desktop\\\\고양이')\n",
    "else : \n",
    "    print('폴더있음')\n"
   ]
  },
  {
   "cell_type": "code",
   "execution_count": 7,
   "id": "af89a526-4c94-4702-8b2a-0b6b69974e55",
   "metadata": {},
   "outputs": [
    {
     "data": {
      "text/plain": [
       "('C:\\\\Users\\\\smhrd1\\\\Desktop\\\\고양이\\\\cat.jpg',\n",
       " <http.client.HTTPMessage at 0x1908537db10>)"
      ]
     },
     "execution_count": 7,
     "metadata": {},
     "output_type": "execute_result"
    }
   ],
   "source": [
    "img_src='https://search.pstatic.net/common/?src=http%3A%2F%2Fblogfiles.naver.net%2FMjAyNDAxMTNfMTIx%2FMDAxNzA1MTQ2MjE5ODIy.vnoAPMHodL1ai1jPZeRN9CiXW5CERenerEd_paOdnIMg.1fk1dn6GcpBLX2djCqlhcbgSaG_w55B1iiPlBVyj5tAg.PNG.hahanegoodclean%2F2660c007-e02a-4dd2-bf84-2544546ab135.png&type=a340'\n",
    "urlretrieve(img_src, \"C:\\\\Users\\\\smhrd1\\\\Desktop\\\\고양이\\\\cat.jpg\")"
   ]
  },
  {
   "cell_type": "code",
   "execution_count": null,
   "id": "46187ce3-9a07-4f2d-a03e-98b0e8b8212a",
   "metadata": {},
   "outputs": [],
   "source": [
    "#### 네이버 이미지 수집\n",
    "1. 'img' 요소 수집하기\n",
    "2. 'img' 요소의 src속성값을 추출하여 이미지 주소 수집하기\n",
    "3. urlretrieve 함수를 사용해서 수집한 이미지주소를 이미지로 저장하기"
   ]
  },
  {
   "cell_type": "code",
   "execution_count": null,
   "id": "ccd09ebc-3d41-44e3-bac7-cd919ff56a29",
   "metadata": {},
   "outputs": [],
   "source": [
    "f'https://search.naver.com/search.naver?ssc=tab.image.all&where=image&sm=tab_jum&query={key}'"
   ]
  },
  {
   "cell_type": "code",
   "execution_count": 51,
   "id": "61a2faee-76ea-4437-ad39-bf67c9238867",
   "metadata": {},
   "outputs": [
    {
     "name": "stdin",
     "output_type": "stream",
     "text": [
      " 사자\n"
     ]
    },
    {
     "name": "stdout",
     "output_type": "stream",
     "text": [
      "폴더생성\n"
     ]
    }
   ],
   "source": [
    "##  keyward 입력 받아 키워드로 검색 후 폴더 생성후 이미지 크롤링\n",
    "driver = wb.Chrome()\n",
    "key=input()\n",
    "# 폴더 생성 \n",
    "# 해당 폴더가 있는 지 확인한 후 없다면 생성!\n",
    "if not os.path.isdir(f\"C:\\\\Users\\\\smhrd1\\\\Desktop\\\\{key}\") : \n",
    "    print('폴더생성')\n",
    "    #폴더 생성하는 함\n",
    "    os.mkdir(f'C:\\\\Users\\\\smhrd1\\\\Desktop\\\\{key}')\n",
    "else : \n",
    "    print('폴더있음')\n",
    "driver.get(f'https://search.naver.com/search.naver?ssc=tab.image.all&where=image&sm=tab_jum&query={key}')\n",
    "time.sleep(1)\n",
    "# 'http:'이 포함된 주소만 리스트에 저장\n",
    "src_list=driver.find_elements(By.CLASS_NAME,'_fe_image_tab_content_thumbnail_image')\n",
    "src_list\n",
    "# src_list[1].get_attribute('src')\n",
    "# urlretrieve(src_list[1].get_attribute('src'), f\"C:\\\\Users\\\\smhrd1\\\\Desktop\\\\고양이\\\\cat{i}.jpg\")\n",
    "for i in range(len(src_list)) :\n",
    "    src_list[i].get_attribute('src')\n",
    "    if 'https:' in src_list[i].get_attribute('src') : # 'http:'이 포함된 주소만\n",
    "        urlretrieve(src_list[i].get_attribute('src'),  f\"C:\\\\Users\\\\smhrd1\\\\Desktop\\\\{key}\\\\{key}{i}.jpg\")\n",
    "    time.sleep(0.5)"
   ]
  },
  {
   "cell_type": "code",
   "execution_count": 80,
   "id": "318f7cc3-ea86-4a9f-93da-3989b962fd74",
   "metadata": {},
   "outputs": [],
   "source": [
    "#페이지 스크롤 내리기\n",
    "#스크롤 관련 key : PAGE_DOWN, ARROW_DOWN, SPACE, END\n",
    "driver.find_element(By.TAG_NAME, 'body').send_keys(Keys.END)"
   ]
  },
  {
   "cell_type": "code",
   "execution_count": null,
   "id": "95157d62-4905-4104-a5e9-47656a4856ab",
   "metadata": {},
   "outputs": [],
   "source": []
  },
  {
   "cell_type": "code",
   "execution_count": null,
   "id": "7d512ddd-93d1-4eb4-8dae-c0c281ab682b",
   "metadata": {},
   "outputs": [],
   "source": [
    "#### 스크롤 끝까지 내리기\n",
    "\n",
    "# 현재 스크롤 전체 길이 추출 \n",
    "dr.execute_script(\"return document.body.scrollHeight\") \n",
    "\n",
    "# 현재 스크롤 좌표 추출 \n",
    "dr.execute_script(\"return window.pageYOffset\") \n",
    "\n",
    "# 지정 좌표로 스크롤 이동 \n",
    "dr.execute_script(\"window.scrollTo(0, 0)\")\n",
    "\n",
    "#스크롤 내리기 이동 전 위치\n",
    "scroll_location = dr.execute_script(\"return document.body.scrollHeight\")\n",
    "\n",
    "while True:\n",
    "\t#현재 스크롤의 가장 아래로 내림\n",
    "    dr.execute_script(\"window.scrollTo(0,document.body.scrollHeight)\")\n",
    "       \n",
    "    #전체 스크롤이 늘어날 때까지 대기\n",
    "    time.sleep(2)\n",
    "    \n",
    "    #늘어난 스크롤 높이\n",
    "    scroll_height = dr.execute_script(\"return document.body.scrollHeight\")\n",
    "\n",
    "    #늘어난 스크롤 위치와 이동 전 위치 같으면(더 이상 스크롤이 늘어나지 않으면) 종료\n",
    "    if scroll_location == scroll_height:\n",
    "    \tbreak\n",
    "\t    \n",
    "    #같지 않으면 스크롤 위치 값을 수정하여 같아질 때까지 반복\n",
    "    else:\n",
    "    \t#스크롤 위치값을 수정\n",
    "    \tscroll_location = dr.execute_script(\"return document.body.scrollHeight\")\n"
   ]
  },
  {
   "cell_type": "code",
   "execution_count": null,
   "id": "74ee2738-0448-4829-8b0a-14f21023bf39",
   "metadata": {},
   "outputs": [],
   "source": []
  },
  {
   "cell_type": "code",
   "execution_count": null,
   "id": "6337ce1d-f664-430a-b47d-aca46d3f1b5b",
   "metadata": {},
   "outputs": [],
   "source": []
  },
  {
   "cell_type": "code",
   "execution_count": null,
   "id": "53bd5f60-0dab-4a02-8fd3-7572a5b1cecc",
   "metadata": {},
   "outputs": [],
   "source": []
  },
  {
   "cell_type": "code",
   "execution_count": null,
   "id": "a18dc6e4-7bd1-4b70-a44c-1977905a6fab",
   "metadata": {},
   "outputs": [],
   "source": []
  },
  {
   "cell_type": "code",
   "execution_count": null,
   "id": "76043ece-0060-45b0-84d9-3da05c3351cc",
   "metadata": {},
   "outputs": [],
   "source": []
  }
 ],
 "metadata": {
  "kernelspec": {
   "display_name": "Python 3 (ipykernel)",
   "language": "python",
   "name": "python3"
  },
  "language_info": {
   "codemirror_mode": {
    "name": "ipython",
    "version": 3
   },
   "file_extension": ".py",
   "mimetype": "text/x-python",
   "name": "python",
   "nbconvert_exporter": "python",
   "pygments_lexer": "ipython3",
   "version": "3.11.7"
  }
 },
 "nbformat": 4,
 "nbformat_minor": 5
}
