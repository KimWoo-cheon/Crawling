{
 "cells": [
  {
   "cell_type": "code",
   "execution_count": 3,
   "id": "0be43657-1d08-4c7e-a764-0f46d1f1baa1",
   "metadata": {},
   "outputs": [],
   "source": [
    "from selenium import webdriver as wb\n",
    "from selenium.webdriver.common.keys import Keys\n",
    "from selenium.webdriver.common.by import By\n",
    "import pandas as pd\n",
    "import time"
   ]
  },
  {
   "cell_type": "code",
   "execution_count": 4,
   "id": "fd440ca3-810b-4775-96d8-516955921681",
   "metadata": {},
   "outputs": [
    {
     "ename": "NoSuchWindowException",
     "evalue": "Message: no such window: target window already closed\nfrom unknown error: web view not found\n  (Session info: chrome=124.0.6367.209)\nStacktrace:\n\tGetHandleVerifier [0x00007FF77E131522+60802]\n\t(No symbol) [0x00007FF77E0AAC22]\n\t(No symbol) [0x00007FF77DF67CE4]\n\t(No symbol) [0x00007FF77DF3DFDF]\n\t(No symbol) [0x00007FF77DFE1E57]\n\t(No symbol) [0x00007FF77DFF98D1]\n\t(No symbol) [0x00007FF77DFDA923]\n\t(No symbol) [0x00007FF77DFA8FEC]\n\t(No symbol) [0x00007FF77DFA9C21]\n\tGetHandleVerifier [0x00007FF77E4341BD+3217949]\n\tGetHandleVerifier [0x00007FF77E476157+3488183]\n\tGetHandleVerifier [0x00007FF77E46F0DF+3459391]\n\tGetHandleVerifier [0x00007FF77E1EB8E6+823622]\n\t(No symbol) [0x00007FF77E0B5FBF]\n\t(No symbol) [0x00007FF77E0B0EE4]\n\t(No symbol) [0x00007FF77E0B1072]\n\t(No symbol) [0x00007FF77E0A18C4]\n\tBaseThreadInitThunk [0x00007FF980B7257D+29]\n\tRtlUserThreadStart [0x00007FF98260AA48+40]\n",
     "output_type": "error",
     "traceback": [
      "\u001b[1;31m---------------------------------------------------------------------------\u001b[0m",
      "\u001b[1;31mNoSuchWindowException\u001b[0m                     Traceback (most recent call last)",
      "Cell \u001b[1;32mIn[4], line 14\u001b[0m\n\u001b[0;32m     12\u001b[0m menu_list[i]\u001b[38;5;241m.\u001b[39mclick()\n\u001b[0;32m     13\u001b[0m time\u001b[38;5;241m.\u001b[39msleep(\u001b[38;5;241m1\u001b[39m)\n\u001b[1;32m---> 14\u001b[0m name\u001b[38;5;241m.\u001b[39mappend(driver\u001b[38;5;241m.\u001b[39mfind_element(By\u001b[38;5;241m.\u001b[39mCLASS_NAME,\u001b[38;5;124m'\u001b[39m\u001b[38;5;124mitemtit\u001b[39m\u001b[38;5;124m'\u001b[39m)\u001b[38;5;241m.\u001b[39mtext)\n\u001b[0;32m     15\u001b[0m \u001b[38;5;28;01mtry\u001b[39;00m : \n\u001b[0;32m     16\u001b[0m     origin\u001b[38;5;241m.\u001b[39mappend(driver\u001b[38;5;241m.\u001b[39mfind_element(By\u001b[38;5;241m.\u001b[39mCSS_SELECTOR,\u001b[38;5;124m'\u001b[39m\u001b[38;5;124m.price_original>.text__price\u001b[39m\u001b[38;5;124m'\u001b[39m)\u001b[38;5;241m.\u001b[39mtext\u001b[38;5;241m.\u001b[39mstrip())\n",
      "File \u001b[1;32m~\\anaconda3\\Lib\\site-packages\\selenium\\webdriver\\remote\\webdriver.py:741\u001b[0m, in \u001b[0;36mWebDriver.find_element\u001b[1;34m(self, by, value)\u001b[0m\n\u001b[0;32m    738\u001b[0m     by \u001b[38;5;241m=\u001b[39m By\u001b[38;5;241m.\u001b[39mCSS_SELECTOR\n\u001b[0;32m    739\u001b[0m     value \u001b[38;5;241m=\u001b[39m \u001b[38;5;124mf\u001b[39m\u001b[38;5;124m'\u001b[39m\u001b[38;5;124m[name=\u001b[39m\u001b[38;5;124m\"\u001b[39m\u001b[38;5;132;01m{\u001b[39;00mvalue\u001b[38;5;132;01m}\u001b[39;00m\u001b[38;5;124m\"\u001b[39m\u001b[38;5;124m]\u001b[39m\u001b[38;5;124m'\u001b[39m\n\u001b[1;32m--> 741\u001b[0m \u001b[38;5;28;01mreturn\u001b[39;00m \u001b[38;5;28mself\u001b[39m\u001b[38;5;241m.\u001b[39mexecute(Command\u001b[38;5;241m.\u001b[39mFIND_ELEMENT, {\u001b[38;5;124m\"\u001b[39m\u001b[38;5;124musing\u001b[39m\u001b[38;5;124m\"\u001b[39m: by, \u001b[38;5;124m\"\u001b[39m\u001b[38;5;124mvalue\u001b[39m\u001b[38;5;124m\"\u001b[39m: value})[\u001b[38;5;124m\"\u001b[39m\u001b[38;5;124mvalue\u001b[39m\u001b[38;5;124m\"\u001b[39m]\n",
      "File \u001b[1;32m~\\anaconda3\\Lib\\site-packages\\selenium\\webdriver\\remote\\webdriver.py:347\u001b[0m, in \u001b[0;36mWebDriver.execute\u001b[1;34m(self, driver_command, params)\u001b[0m\n\u001b[0;32m    345\u001b[0m response \u001b[38;5;241m=\u001b[39m \u001b[38;5;28mself\u001b[39m\u001b[38;5;241m.\u001b[39mcommand_executor\u001b[38;5;241m.\u001b[39mexecute(driver_command, params)\n\u001b[0;32m    346\u001b[0m \u001b[38;5;28;01mif\u001b[39;00m response:\n\u001b[1;32m--> 347\u001b[0m     \u001b[38;5;28mself\u001b[39m\u001b[38;5;241m.\u001b[39merror_handler\u001b[38;5;241m.\u001b[39mcheck_response(response)\n\u001b[0;32m    348\u001b[0m     response[\u001b[38;5;124m\"\u001b[39m\u001b[38;5;124mvalue\u001b[39m\u001b[38;5;124m\"\u001b[39m] \u001b[38;5;241m=\u001b[39m \u001b[38;5;28mself\u001b[39m\u001b[38;5;241m.\u001b[39m_unwrap_value(response\u001b[38;5;241m.\u001b[39mget(\u001b[38;5;124m\"\u001b[39m\u001b[38;5;124mvalue\u001b[39m\u001b[38;5;124m\"\u001b[39m, \u001b[38;5;28;01mNone\u001b[39;00m))\n\u001b[0;32m    349\u001b[0m     \u001b[38;5;28;01mreturn\u001b[39;00m response\n",
      "File \u001b[1;32m~\\anaconda3\\Lib\\site-packages\\selenium\\webdriver\\remote\\errorhandler.py:229\u001b[0m, in \u001b[0;36mErrorHandler.check_response\u001b[1;34m(self, response)\u001b[0m\n\u001b[0;32m    227\u001b[0m         alert_text \u001b[38;5;241m=\u001b[39m value[\u001b[38;5;124m\"\u001b[39m\u001b[38;5;124malert\u001b[39m\u001b[38;5;124m\"\u001b[39m]\u001b[38;5;241m.\u001b[39mget(\u001b[38;5;124m\"\u001b[39m\u001b[38;5;124mtext\u001b[39m\u001b[38;5;124m\"\u001b[39m)\n\u001b[0;32m    228\u001b[0m     \u001b[38;5;28;01mraise\u001b[39;00m exception_class(message, screen, stacktrace, alert_text)  \u001b[38;5;66;03m# type: ignore[call-arg]  # mypy is not smart enough here\u001b[39;00m\n\u001b[1;32m--> 229\u001b[0m \u001b[38;5;28;01mraise\u001b[39;00m exception_class(message, screen, stacktrace)\n",
      "\u001b[1;31mNoSuchWindowException\u001b[0m: Message: no such window: target window already closed\nfrom unknown error: web view not found\n  (Session info: chrome=124.0.6367.209)\nStacktrace:\n\tGetHandleVerifier [0x00007FF77E131522+60802]\n\t(No symbol) [0x00007FF77E0AAC22]\n\t(No symbol) [0x00007FF77DF67CE4]\n\t(No symbol) [0x00007FF77DF3DFDF]\n\t(No symbol) [0x00007FF77DFE1E57]\n\t(No symbol) [0x00007FF77DFF98D1]\n\t(No symbol) [0x00007FF77DFDA923]\n\t(No symbol) [0x00007FF77DFA8FEC]\n\t(No symbol) [0x00007FF77DFA9C21]\n\tGetHandleVerifier [0x00007FF77E4341BD+3217949]\n\tGetHandleVerifier [0x00007FF77E476157+3488183]\n\tGetHandleVerifier [0x00007FF77E46F0DF+3459391]\n\tGetHandleVerifier [0x00007FF77E1EB8E6+823622]\n\t(No symbol) [0x00007FF77E0B5FBF]\n\t(No symbol) [0x00007FF77E0B0EE4]\n\t(No symbol) [0x00007FF77E0B1072]\n\t(No symbol) [0x00007FF77E0A18C4]\n\tBaseThreadInitThunk [0x00007FF980B7257D+29]\n\tRtlUserThreadStart [0x00007FF98260AA48+40]\n"
     ]
    }
   ],
   "source": [
    "driver = wb.Chrome()\n",
    "driver.get('https://www.gmarket.co.kr/n/best')\n",
    "time.sleep(1)\n",
    "name=[]\n",
    "origin=[]\n",
    "cate=[]\n",
    "menu_list=driver.find_elements(By.CLASS_NAME,'itemname') # 정 못찾겠으면 X태그\n",
    "# # item1 = driver.find element(By.XPATH, f'//*[@id=\"qBestWrap\"]/div[2]/ul/li[{i+1}]/div[1]\n",
    "\n",
    "for i in range(10):\n",
    "    menu_list=driver.find_elements(By.CLASS_NAME,'itemname')\n",
    "    menu_list[i].click()\n",
    "    time.sleep(1)\n",
    "    name.append(driver.find_element(By.CLASS_NAME,'itemtit').text)\n",
    "    try : \n",
    "        origin.append(driver.find_element(By.CSS_SELECTOR,'.price_original>.text__price').text.strip())\n",
    "    except:\n",
    "        origin.append(driver.find_element(By.CLASS_NAME,'price_real').text.strip())\n",
    "    cate.append(driver.find_element(By.CSS_SELECTOR,'.location-navi li+li+li+li>a').text.strip())\n",
    "    driver.back()\n",
    "    time.sleep(1)\n",
    "\n",
    "data={ '제품명': name, '원가':origin, '카테고리':cate}\n",
    "df=pd.DataFrame(data)\n",
    "df\n",
    "\n",
    "\n"
   ]
  },
  {
   "cell_type": "code",
   "execution_count": 4,
   "id": "9f672bcf-fb4c-404e-b4b3-6f1227bf6dcf",
   "metadata": {},
   "outputs": [
    {
     "data": {
      "text/html": [
       "<style type=\"text/css\">\n",
       "#T_31e0e th {\n",
       "  text-align: center;\n",
       "}\n",
       "#T_31e0e_row0_col0, #T_31e0e_row0_col1, #T_31e0e_row0_col2, #T_31e0e_row1_col0, #T_31e0e_row1_col1, #T_31e0e_row1_col2, #T_31e0e_row2_col0, #T_31e0e_row2_col1, #T_31e0e_row2_col2, #T_31e0e_row3_col0, #T_31e0e_row3_col1, #T_31e0e_row3_col2, #T_31e0e_row4_col0, #T_31e0e_row4_col1, #T_31e0e_row4_col2, #T_31e0e_row5_col0, #T_31e0e_row5_col1, #T_31e0e_row5_col2, #T_31e0e_row6_col0, #T_31e0e_row6_col1, #T_31e0e_row6_col2, #T_31e0e_row7_col0, #T_31e0e_row7_col1, #T_31e0e_row7_col2, #T_31e0e_row8_col0, #T_31e0e_row8_col1, #T_31e0e_row8_col2, #T_31e0e_row9_col0, #T_31e0e_row9_col1, #T_31e0e_row9_col2 {\n",
       "  text-align: center;\n",
       "}\n",
       "</style>\n",
       "<table id=\"T_31e0e\">\n",
       "  <thead>\n",
       "    <tr>\n",
       "      <th class=\"blank level0\" >&nbsp;</th>\n",
       "      <th id=\"T_31e0e_level0_col0\" class=\"col_heading level0 col0\" >제품명</th>\n",
       "      <th id=\"T_31e0e_level0_col1\" class=\"col_heading level0 col1\" >원가</th>\n",
       "      <th id=\"T_31e0e_level0_col2\" class=\"col_heading level0 col2\" >카테고리</th>\n",
       "    </tr>\n",
       "  </thead>\n",
       "  <tbody>\n",
       "    <tr>\n",
       "      <th id=\"T_31e0e_level0_row0\" class=\"row_heading level0 row0\" >0</th>\n",
       "      <td id=\"T_31e0e_row0_col0\" class=\"data row0 col0\" >(BSD 전용 쿠폰적용가 6천원) 메가박스 일반예매권 2D주중/주말</td>\n",
       "      <td id=\"T_31e0e_row0_col1\" class=\"data row0 col1\" >15,000원</td>\n",
       "      <td id=\"T_31e0e_row0_col2\" class=\"data row0 col2\" >메가박스</td>\n",
       "    </tr>\n",
       "    <tr>\n",
       "      <th id=\"T_31e0e_level0_row1\" class=\"row_heading level0 row1\" >1</th>\n",
       "      <td id=\"T_31e0e_row1_col0\" class=\"data row1 col0\" >베베숲 물티슈 최종가 20900원/고평량 물티슈 프라임 70평량 70매 캡 20팩</td>\n",
       "      <td id=\"T_31e0e_row1_col1\" class=\"data row1 col1\" >53,500</td>\n",
       "      <td id=\"T_31e0e_row1_col2\" class=\"data row1 col2\" >물티슈</td>\n",
       "    </tr>\n",
       "    <tr>\n",
       "      <th id=\"T_31e0e_level0_row2\" class=\"row_heading level0 row2\" >2</th>\n",
       "      <td id=\"T_31e0e_row2_col0\" class=\"data row2 col0\" >펩시콜라 제로 210ml x 60캔 (30캔 2박스)</td>\n",
       "      <td id=\"T_31e0e_row2_col1\" class=\"data row2 col1\" >38,000원</td>\n",
       "      <td id=\"T_31e0e_row2_col2\" class=\"data row2 col2\" >탄산/기능성음료</td>\n",
       "    </tr>\n",
       "    <tr>\n",
       "      <th id=\"T_31e0e_level0_row3\" class=\"row_heading level0 row3\" >3</th>\n",
       "      <td id=\"T_31e0e_row3_col0\" class=\"data row3 col0\" >15+7%) 소문난오부자 재래도시락김5g 72봉 5월 7일 단하루</td>\n",
       "      <td id=\"T_31e0e_row3_col1\" class=\"data row3 col1\" >31,300</td>\n",
       "      <td id=\"T_31e0e_row3_col2\" class=\"data row3 col2\" >김</td>\n",
       "    </tr>\n",
       "    <tr>\n",
       "      <th id=\"T_31e0e_level0_row4\" class=\"row_heading level0 row4\" >4</th>\n",
       "      <td id=\"T_31e0e_row4_col0\" class=\"data row4 col0\" >브라운 (최종가 20890원) 헤리티지 아기 물티슈 70매 캡형 10팩+10팩</td>\n",
       "      <td id=\"T_31e0e_row4_col1\" class=\"data row4 col1\" >53,500</td>\n",
       "      <td id=\"T_31e0e_row4_col2\" class=\"data row4 col2\" >물티슈</td>\n",
       "    </tr>\n",
       "    <tr>\n",
       "      <th id=\"T_31e0e_level0_row5\" class=\"row_heading level0 row5\" >5</th>\n",
       "      <td id=\"T_31e0e_row5_col0\" class=\"data row5 col0\" >펩시콜라 제로슈거 라임 355ml 48캔</td>\n",
       "      <td id=\"T_31e0e_row5_col1\" class=\"data row5 col1\" >42,000원</td>\n",
       "      <td id=\"T_31e0e_row5_col2\" class=\"data row5 col2\" >탄산/기능성음료</td>\n",
       "    </tr>\n",
       "    <tr>\n",
       "      <th id=\"T_31e0e_level0_row6\" class=\"row_heading level0 row6\" >6</th>\n",
       "      <td id=\"T_31e0e_row6_col0\" class=\"data row6 col0\" >생리대 (최대 74%할인 12880원+증정) 블랙 중형+대형 6팩+여름세트 증정(롱라20P+중형 6P) 유기농 미피 러브</td>\n",
       "      <td id=\"T_31e0e_row6_col1\" class=\"data row6 col1\" >30,600</td>\n",
       "      <td id=\"T_31e0e_row6_col2\" class=\"data row6 col2\" >생리대</td>\n",
       "    </tr>\n",
       "    <tr>\n",
       "      <th id=\"T_31e0e_level0_row7\" class=\"row_heading level0 row7\" >7</th>\n",
       "      <td id=\"T_31e0e_row7_col0\" class=\"data row7 col0\" >(20%+10%) (농협쌀/삼광/상) 한토래 단일품종 삼광쌀 20kg / 2023년산 햅쌀</td>\n",
       "      <td id=\"T_31e0e_row7_col1\" class=\"data row7 col1\" >85,600</td>\n",
       "      <td id=\"T_31e0e_row7_col2\" class=\"data row7 col2\" >백미</td>\n",
       "    </tr>\n",
       "    <tr>\n",
       "      <th id=\"T_31e0e_level0_row8\" class=\"row_heading level0 row8\" >8</th>\n",
       "      <td id=\"T_31e0e_row8_col0\" class=\"data row8 col0\" >빅스마일 누구나 20+10%쿠폰 게스본사 SS특가 반팔티/데님/모자 행사</td>\n",
       "      <td id=\"T_31e0e_row8_col1\" class=\"data row8 col1\" >93,000</td>\n",
       "      <td id=\"T_31e0e_row8_col2\" class=\"data row8 col2\" >기본/라운드/브이넥</td>\n",
       "    </tr>\n",
       "    <tr>\n",
       "      <th id=\"T_31e0e_level0_row9\" class=\"row_heading level0 row9\" >9</th>\n",
       "      <td id=\"T_31e0e_row9_col0\" class=\"data row9 col0\" >쿠폰가12960원) 한성기업 크래미 몬스터크랩 72g X 15개 (2세트 구매시 1000원 추가할인)</td>\n",
       "      <td id=\"T_31e0e_row9_col1\" class=\"data row9 col1\" >24,900</td>\n",
       "      <td id=\"T_31e0e_row9_col2\" class=\"data row9 col2\" >어묵/맛살</td>\n",
       "    </tr>\n",
       "  </tbody>\n",
       "</table>\n"
      ],
      "text/plain": [
       "<pandas.io.formats.style.Styler at 0x1dfc8fbfcd0>"
      ]
     },
     "execution_count": 4,
     "metadata": {},
     "output_type": "execute_result"
    }
   ],
   "source": [
    "dfStyler = df.style.set_properties(**{'text-align': 'center'})\n",
    "dfStyler.set_table_styles([dict(selector='th',props=[('text-align', 'center')])])"
   ]
  },
  {
   "cell_type": "code",
   "execution_count": 55,
   "id": "304a1527-8693-42a0-8a39-4206314fbe45",
   "metadata": {},
   "outputs": [],
   "source": [
    "# csv 파일로 내보내기\n",
    "df.to_csv('G마켓.csv', encoding ='euc-kr')"
   ]
  },
  {
   "cell_type": "markdown",
   "id": "11746230-3734-4235-927d-f5c4029639d7",
   "metadata": {},
   "source": [
    "#### GMarket 그룹별 데이터 수집 및 저장\n",
    "1. 'All'을 제외한 나머지 그룹메뉴를 클릭하여 순차적으로 넘어간다\n",
    "    - 첫번째 방법 : 그룹별 메뉴를 하나씩 클릭하여 넘어가기\n",
    "    - 두번째 방법 : 그룹별 URL패턴을 분석하여 페이지 넘어가기\n",
    "3. 각 그룹에 해당하는 상품 데이터 (상품명, 가격)을 수집한다.\n",
    "4. 모든 그룹에 대한 데이터 수집 완료시, CSV파일로 저장한다."
   ]
  },
  {
   "cell_type": "code",
   "execution_count": 7,
   "id": "6f9d180e-bf49-4bfc-8f6f-88374fc9c65d",
   "metadata": {},
   "outputs": [],
   "source": [
    "driver = wb.Chrome()\n",
    "driver.get('https://www.gmarket.co.kr/n/best')\n",
    "time.sleep(1)"
   ]
  },
  {
   "cell_type": "code",
   "execution_count": 45,
   "id": "36fa86da-a2a1-47e5-81ff-f77ad24738e7",
   "metadata": {},
   "outputs": [
    {
     "data": {
      "text/plain": [
       "[<selenium.webdriver.remote.webelement.WebElement (session=\"a85abb7e9beb4b75f680008a3f80cb85\", element=\"f.495D795813F9D17C27453B021AADE94A.d.4F8D5C944CD86631E0448F3AC0F8A878.e.35469\")>,\n",
       " <selenium.webdriver.remote.webelement.WebElement (session=\"a85abb7e9beb4b75f680008a3f80cb85\", element=\"f.495D795813F9D17C27453B021AADE94A.d.4F8D5C944CD86631E0448F3AC0F8A878.e.35470\")>,\n",
       " <selenium.webdriver.remote.webelement.WebElement (session=\"a85abb7e9beb4b75f680008a3f80cb85\", element=\"f.495D795813F9D17C27453B021AADE94A.d.4F8D5C944CD86631E0448F3AC0F8A878.e.35471\")>,\n",
       " <selenium.webdriver.remote.webelement.WebElement (session=\"a85abb7e9beb4b75f680008a3f80cb85\", element=\"f.495D795813F9D17C27453B021AADE94A.d.4F8D5C944CD86631E0448F3AC0F8A878.e.35472\")>,\n",
       " <selenium.webdriver.remote.webelement.WebElement (session=\"a85abb7e9beb4b75f680008a3f80cb85\", element=\"f.495D795813F9D17C27453B021AADE94A.d.4F8D5C944CD86631E0448F3AC0F8A878.e.35473\")>,\n",
       " <selenium.webdriver.remote.webelement.WebElement (session=\"a85abb7e9beb4b75f680008a3f80cb85\", element=\"f.495D795813F9D17C27453B021AADE94A.d.4F8D5C944CD86631E0448F3AC0F8A878.e.35474\")>,\n",
       " <selenium.webdriver.remote.webelement.WebElement (session=\"a85abb7e9beb4b75f680008a3f80cb85\", element=\"f.495D795813F9D17C27453B021AADE94A.d.4F8D5C944CD86631E0448F3AC0F8A878.e.35498\")>,\n",
       " <selenium.webdriver.remote.webelement.WebElement (session=\"a85abb7e9beb4b75f680008a3f80cb85\", element=\"f.495D795813F9D17C27453B021AADE94A.d.4F8D5C944CD86631E0448F3AC0F8A878.e.35499\")>,\n",
       " <selenium.webdriver.remote.webelement.WebElement (session=\"a85abb7e9beb4b75f680008a3f80cb85\", element=\"f.495D795813F9D17C27453B021AADE94A.d.4F8D5C944CD86631E0448F3AC0F8A878.e.35500\")>,\n",
       " <selenium.webdriver.remote.webelement.WebElement (session=\"a85abb7e9beb4b75f680008a3f80cb85\", element=\"f.495D795813F9D17C27453B021AADE94A.d.4F8D5C944CD86631E0448F3AC0F8A878.e.35501\")>,\n",
       " <selenium.webdriver.remote.webelement.WebElement (session=\"a85abb7e9beb4b75f680008a3f80cb85\", element=\"f.495D795813F9D17C27453B021AADE94A.d.4F8D5C944CD86631E0448F3AC0F8A878.e.35502\")>,\n",
       " <selenium.webdriver.remote.webelement.WebElement (session=\"a85abb7e9beb4b75f680008a3f80cb85\", element=\"f.495D795813F9D17C27453B021AADE94A.d.4F8D5C944CD86631E0448F3AC0F8A878.e.35503\")>]"
      ]
     },
     "execution_count": 45,
     "metadata": {},
     "output_type": "execute_result"
    }
   ],
   "source": [
    "driver.get('https://www.gmarket.co.kr/n/best')\n",
    "name_list=[]\n",
    "price_list=[]\n",
    "\n",
    "# group_list"
   ]
  },
  {
   "cell_type": "code",
   "execution_count": 60,
   "id": "361500f1-6d14-4b97-895f-41bf13c3dfc3",
   "metadata": {},
   "outputs": [],
   "source": [
    "i=11\n",
    "driver.find_element(By.CLASS_NAME,f'group{i+1}').click()"
   ]
  },
  {
   "cell_type": "code",
   "execution_count": 155,
   "id": "bae63e32-5b4f-4f0b-b5d3-c3b2a8275f3b",
   "metadata": {},
   "outputs": [
    {
     "name": "stdout",
     "output_type": "stream",
     "text": [
      "1200\n",
      "1200\n",
      "1200\n",
      "1200\n"
     ]
    }
   ],
   "source": [
    "driver = wb.Chrome()\n",
    "driver.get('https://www.gmarket.co.kr/n/best')\n",
    "time.sleep(1)\n",
    "driver.get('https://www.gmarket.co.kr/n/best')\n",
    "name_list=[]\n",
    "price_list=[]\n",
    "group_list=[]\n",
    "grouping=driver.find_elements(By.CSS_SELECTOR,'li.groupA.on~li')\n",
    "# for j in grouping :\n",
    "num=1\n",
    "num_list=[]\n",
    "for i in range(12):\n",
    "    for j in range(100) :\n",
    "       group_list.append(grouping[i].text)\n",
    "\n",
    "\n",
    "\n",
    "for i in range(12) :\n",
    "    driver.find_element(By.CLASS_NAME,f'group{i+1}').click()\n",
    "    time.sleep(0.5)\n",
    "    for n in range(100) :\n",
    "        name_list.append(driver.find_element(By.CSS_SELECTOR,f'.no{n+1}~.itemname').text)\n",
    "        price_list.append(driver.find_element(By.CSS_SELECTOR,f'.no{n+1}~.item_price>.s-price > strong>span').text)\n",
    "        num_list.append(num)\n",
    "        num=num+1\n",
    "print(len(name_list))\n",
    "print(len(price_list))\n",
    "print(len(group_list)) \n",
    "print(len(num_list))\n"
   ]
  },
  {
   "cell_type": "code",
   "execution_count": 127,
   "id": "763ad0aa-4e01-4b41-a155-5188a71d1905",
   "metadata": {},
   "outputs": [
    {
     "data": {
      "text/html": [
       "<div>\n",
       "<style scoped>\n",
       "    .dataframe tbody tr th:only-of-type {\n",
       "        vertical-align: middle;\n",
       "    }\n",
       "\n",
       "    .dataframe tbody tr th {\n",
       "        vertical-align: top;\n",
       "    }\n",
       "\n",
       "    .dataframe thead th {\n",
       "        text-align: right;\n",
       "    }\n",
       "</style>\n",
       "<table border=\"1\" class=\"dataframe\">\n",
       "  <thead>\n",
       "    <tr style=\"text-align: right;\">\n",
       "      <th></th>\n",
       "      <th>분류</th>\n",
       "      <th>제품명</th>\n",
       "      <th>가격</th>\n",
       "    </tr>\n",
       "  </thead>\n",
       "  <tbody>\n",
       "    <tr>\n",
       "      <th>0</th>\n",
       "      <td>패션의류</td>\n",
       "      <td>[푸마](10710원 무료배송)푸마 퀵드라이 남녀공용 언더셔츠 1종 택일 최신상 (...</td>\n",
       "      <td>13,900원</td>\n",
       "    </tr>\n",
       "    <tr>\n",
       "      <th>1</th>\n",
       "      <td>패션의류</td>\n",
       "      <td>(15+12%) 줄리샵 봄여름 신상/베스트/원피스/블라우스/니트/스커트/투피스/셋업/자켓</td>\n",
       "      <td>14,200원</td>\n",
       "    </tr>\n",
       "    <tr>\n",
       "      <th>2</th>\n",
       "      <td>패션의류</td>\n",
       "      <td>((15%+5%쿠폰)) 데이데이 고퀄리티 국내 자체제작 BEST 반팔티셔츠/팬츠/스...</td>\n",
       "      <td>11,200원</td>\n",
       "    </tr>\n",
       "    <tr>\n",
       "      <th>3</th>\n",
       "      <td>패션의류</td>\n",
       "      <td>[다온샵](무료반품/15+12%중복쿠폰) 봄여름 쿨신상 50종팬츠 데님/슬랙스/코튼...</td>\n",
       "      <td>10,900원</td>\n",
       "    </tr>\n",
       "    <tr>\n",
       "      <th>4</th>\n",
       "      <td>패션의류</td>\n",
       "      <td>[리바이스바디웨어](5900원 무료배송) Levis 리바이스 아웃밴드 메쉬 드로즈 ...</td>\n",
       "      <td>6,770원</td>\n",
       "    </tr>\n",
       "    <tr>\n",
       "      <th>...</th>\n",
       "      <td>...</td>\n",
       "      <td>...</td>\n",
       "      <td>...</td>\n",
       "    </tr>\n",
       "    <tr>\n",
       "      <th>1195</th>\n",
       "      <td>e쿠폰</td>\n",
       "      <td>[CU]CU 모바일금액권 1천원권</td>\n",
       "      <td>1,000원</td>\n",
       "    </tr>\n",
       "    <tr>\n",
       "      <th>1196</th>\n",
       "      <td>e쿠폰</td>\n",
       "      <td>[GS25]GS25 모바일금액권 3천원권</td>\n",
       "      <td>3,000원</td>\n",
       "    </tr>\n",
       "    <tr>\n",
       "      <th>1197</th>\n",
       "      <td>e쿠폰</td>\n",
       "      <td>[요기요](요기요) 3만원권</td>\n",
       "      <td>30,000원</td>\n",
       "    </tr>\n",
       "    <tr>\n",
       "      <th>1198</th>\n",
       "      <td>e쿠폰</td>\n",
       "      <td>[메가박스](메가박스) 2인권</td>\n",
       "      <td>25,480원</td>\n",
       "    </tr>\n",
       "    <tr>\n",
       "      <th>1199</th>\n",
       "      <td>e쿠폰</td>\n",
       "      <td>[롯데리아](롯데리아) GRS 모바일금액권 1만원권</td>\n",
       "      <td>9,600원</td>\n",
       "    </tr>\n",
       "  </tbody>\n",
       "</table>\n",
       "<p>1200 rows × 3 columns</p>\n",
       "</div>"
      ],
      "text/plain": [
       "        분류                                                제품명       가격\n",
       "0     패션의류  [푸마](10710원 무료배송)푸마 퀵드라이 남녀공용 언더셔츠 1종 택일 최신상 (...  13,900원\n",
       "1     패션의류  (15+12%) 줄리샵 봄여름 신상/베스트/원피스/블라우스/니트/스커트/투피스/셋업/자켓  14,200원\n",
       "2     패션의류  ((15%+5%쿠폰)) 데이데이 고퀄리티 국내 자체제작 BEST 반팔티셔츠/팬츠/스...  11,200원\n",
       "3     패션의류  [다온샵](무료반품/15+12%중복쿠폰) 봄여름 쿨신상 50종팬츠 데님/슬랙스/코튼...  10,900원\n",
       "4     패션의류  [리바이스바디웨어](5900원 무료배송) Levis 리바이스 아웃밴드 메쉬 드로즈 ...   6,770원\n",
       "...    ...                                                ...      ...\n",
       "1195   e쿠폰                                 [CU]CU 모바일금액권 1천원권   1,000원\n",
       "1196   e쿠폰                             [GS25]GS25 모바일금액권 3천원권   3,000원\n",
       "1197   e쿠폰                                    [요기요](요기요) 3만원권  30,000원\n",
       "1198   e쿠폰                                   [메가박스](메가박스) 2인권  25,480원\n",
       "1199   e쿠폰                       [롯데리아](롯데리아) GRS 모바일금액권 1만원권   9,600원\n",
       "\n",
       "[1200 rows x 3 columns]"
      ]
     },
     "execution_count": 127,
     "metadata": {},
     "output_type": "execute_result"
    }
   ],
   "source": [
    "data2={'분류' : group_list, '제품명': name_list, '가격':price_list, }\n",
    "df2=pd.DataFrame(data2)\n",
    "df2"
   ]
  },
  {
   "cell_type": "code",
   "execution_count": 156,
   "id": "b6be010d-3efd-4a12-aa7b-68e6e960f9c3",
   "metadata": {},
   "outputs": [],
   "source": [
    "bins=[0,100,200,300,400,500,600,700,800,900,1000,1100,1200]\n",
    "labels=grouping\n",
    "pie=pd.cut(num_list, bins, labels=labels)"
   ]
  },
  {
   "cell_type": "code",
   "execution_count": null,
   "id": "e83698ba-52ad-4526-bae2-67f5af238f50",
   "metadata": {},
   "outputs": [],
   "source": [
    "title_list = []\n",
    "price_list = []\n",
    "group_list = []\n",
    "\n",
    "for i in range(len(href_list)):\n",
    "    driver.get(href_list[i])\n",
    "\n",
    "    time.sleep(1)\n",
    "\n",
    "    titles = driver.find_elements(By.CLASS_NAME, 'itemname')\n",
    "    prices = driver.find_elements(By.CSS_SELECTOR, 'div.s-price > strong > span')\n",
    "    groups = driver.find_elements(By.CSS_SELECTOR , '#categoryTabG > li.groupA ~ li > a')\n",
    "    \n",
    "    for j in range(len(titles)):\n",
    "        title_list.append(titles[j].text)\n",
    "        price_list.append(prices[j].text)\n",
    "        group_list.append(groups[i].text)\n",
    "    \n",
    "len(title_list), len(price_list), len(group_list)"
   ]
  },
  {
   "cell_type": "code",
   "execution_count": null,
   "id": "a7e94a4c-714d-4239-9c72-d4e129489cf0",
   "metadata": {},
   "outputs": [],
   "source": []
  },
  {
   "cell_type": "code",
   "execution_count": null,
   "id": "f86cc86c-8b34-4a92-a54c-991b387e8991",
   "metadata": {},
   "outputs": [],
   "source": []
  },
  {
   "cell_type": "code",
   "execution_count": null,
   "id": "a1ee13e9-5909-4c0f-ac9c-77a66d7be5c5",
   "metadata": {},
   "outputs": [],
   "source": []
  }
 ],
 "metadata": {
  "kernelspec": {
   "display_name": "Python 3 (ipykernel)",
   "language": "python",
   "name": "python3"
  },
  "language_info": {
   "codemirror_mode": {
    "name": "ipython",
    "version": 3
   },
   "file_extension": ".py",
   "mimetype": "text/x-python",
   "name": "python",
   "nbconvert_exporter": "python",
   "pygments_lexer": "ipython3",
   "version": "3.11.7"
  }
 },
 "nbformat": 4,
 "nbformat_minor": 5
}
